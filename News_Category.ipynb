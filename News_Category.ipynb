{
 "cells": [
  {
   "cell_type": "code",
   "execution_count": 1,
   "metadata": {},
   "outputs": [
    {
     "name": "stderr",
     "output_type": "stream",
     "text": [
      "Using TensorFlow backend.\n"
     ]
    }
   ],
   "source": [
    "import numpy as np\n",
    "import pandas as pd\n",
    "from nltk import *\n",
    "import json\n",
    "from keras.preprocessing.text import Tokenizer, text_to_word_sequence \n",
    "from keras.layers import *\n",
    "from keras.initializers import Constant\n",
    "from keras.utils import np_utils\n",
    "from keras.preprocessing import sequence\n",
    "from keras.models import Model\n",
    "from sklearn.model_selection import train_test_split as tts\n",
    "import matplotlib.pyplot as plt"
   ]
  },
  {
   "cell_type": "code",
   "execution_count": 2,
   "metadata": {},
   "outputs": [
    {
     "data": {
      "text/html": [
       "<div>\n",
       "<style scoped>\n",
       "    .dataframe tbody tr th:only-of-type {\n",
       "        vertical-align: middle;\n",
       "    }\n",
       "\n",
       "    .dataframe tbody tr th {\n",
       "        vertical-align: top;\n",
       "    }\n",
       "\n",
       "    .dataframe thead th {\n",
       "        text-align: right;\n",
       "    }\n",
       "</style>\n",
       "<table border=\"1\" class=\"dataframe\">\n",
       "  <thead>\n",
       "    <tr style=\"text-align: right;\">\n",
       "      <th></th>\n",
       "      <th>authors</th>\n",
       "      <th>category</th>\n",
       "      <th>date</th>\n",
       "      <th>headline</th>\n",
       "      <th>link</th>\n",
       "      <th>short_description</th>\n",
       "    </tr>\n",
       "  </thead>\n",
       "  <tbody>\n",
       "    <tr>\n",
       "      <th>0</th>\n",
       "      <td>Melissa Jeltsen</td>\n",
       "      <td>CRIME</td>\n",
       "      <td>2018-05-26</td>\n",
       "      <td>There Were 2 Mass Shootings In Texas Last Week...</td>\n",
       "      <td>https://www.huffingtonpost.com/entry/texas-ama...</td>\n",
       "      <td>She left her husband. He killed their children...</td>\n",
       "    </tr>\n",
       "    <tr>\n",
       "      <th>1</th>\n",
       "      <td>Andy McDonald</td>\n",
       "      <td>ENTERTAINMENT</td>\n",
       "      <td>2018-05-26</td>\n",
       "      <td>Will Smith Joins Diplo And Nicky Jam For The 2...</td>\n",
       "      <td>https://www.huffingtonpost.com/entry/will-smit...</td>\n",
       "      <td>Of course it has a song.</td>\n",
       "    </tr>\n",
       "    <tr>\n",
       "      <th>2</th>\n",
       "      <td>Ron Dicker</td>\n",
       "      <td>ENTERTAINMENT</td>\n",
       "      <td>2018-05-26</td>\n",
       "      <td>Hugh Grant Marries For The First Time At Age 57</td>\n",
       "      <td>https://www.huffingtonpost.com/entry/hugh-gran...</td>\n",
       "      <td>The actor and his longtime girlfriend Anna Ebe...</td>\n",
       "    </tr>\n",
       "    <tr>\n",
       "      <th>3</th>\n",
       "      <td>Ron Dicker</td>\n",
       "      <td>ENTERTAINMENT</td>\n",
       "      <td>2018-05-26</td>\n",
       "      <td>Jim Carrey Blasts 'Castrato' Adam Schiff And D...</td>\n",
       "      <td>https://www.huffingtonpost.com/entry/jim-carre...</td>\n",
       "      <td>The actor gives Dems an ass-kicking for not fi...</td>\n",
       "    </tr>\n",
       "    <tr>\n",
       "      <th>4</th>\n",
       "      <td>Ron Dicker</td>\n",
       "      <td>ENTERTAINMENT</td>\n",
       "      <td>2018-05-26</td>\n",
       "      <td>Julianna Margulies Uses Donald Trump Poop Bags...</td>\n",
       "      <td>https://www.huffingtonpost.com/entry/julianna-...</td>\n",
       "      <td>The \"Dietland\" actress said using the bags is ...</td>\n",
       "    </tr>\n",
       "  </tbody>\n",
       "</table>\n",
       "</div>"
      ],
      "text/plain": [
       "           authors       category       date  \\\n",
       "0  Melissa Jeltsen          CRIME 2018-05-26   \n",
       "1    Andy McDonald  ENTERTAINMENT 2018-05-26   \n",
       "2       Ron Dicker  ENTERTAINMENT 2018-05-26   \n",
       "3       Ron Dicker  ENTERTAINMENT 2018-05-26   \n",
       "4       Ron Dicker  ENTERTAINMENT 2018-05-26   \n",
       "\n",
       "                                            headline  \\\n",
       "0  There Were 2 Mass Shootings In Texas Last Week...   \n",
       "1  Will Smith Joins Diplo And Nicky Jam For The 2...   \n",
       "2    Hugh Grant Marries For The First Time At Age 57   \n",
       "3  Jim Carrey Blasts 'Castrato' Adam Schiff And D...   \n",
       "4  Julianna Margulies Uses Donald Trump Poop Bags...   \n",
       "\n",
       "                                                link  \\\n",
       "0  https://www.huffingtonpost.com/entry/texas-ama...   \n",
       "1  https://www.huffingtonpost.com/entry/will-smit...   \n",
       "2  https://www.huffingtonpost.com/entry/hugh-gran...   \n",
       "3  https://www.huffingtonpost.com/entry/jim-carre...   \n",
       "4  https://www.huffingtonpost.com/entry/julianna-...   \n",
       "\n",
       "                                   short_description  \n",
       "0  She left her husband. He killed their children...  \n",
       "1                           Of course it has a song.  \n",
       "2  The actor and his longtime girlfriend Anna Ebe...  \n",
       "3  The actor gives Dems an ass-kicking for not fi...  \n",
       "4  The \"Dietland\" actress said using the bags is ...  "
      ]
     },
     "execution_count": 2,
     "metadata": {},
     "output_type": "execute_result"
    }
   ],
   "source": [
    "#import dataset\n",
    "file = 'News_Category_Dataset.json'\n",
    "data = pd.read_json(file, lines = True)\n",
    "data.head()"
   ]
  },
  {
   "cell_type": "code",
   "execution_count": 3,
   "metadata": {},
   "outputs": [
    {
     "name": "stdout",
     "output_type": "stream",
     "text": [
      "31\n",
      "category\n",
      "ARTS               1509\n",
      "ARTS & CULTURE     1339\n",
      "BLACK VOICES       3858\n",
      "BUSINESS           4254\n",
      "COLLEGE            1144\n",
      "COMEDY             3971\n",
      "CRIME              2893\n",
      "EDUCATION          1004\n",
      "ENTERTAINMENT     14257\n",
      "FIFTY              1401\n",
      "GOOD NEWS          1398\n",
      "GREEN              2622\n",
      "HEALTHY LIVING     6694\n",
      "IMPACT             2602\n",
      "LATINO VOICES      1129\n",
      "MEDIA              2815\n",
      "PARENTS            3955\n",
      "POLITICS          32739\n",
      "QUEER VOICES       4995\n",
      "RELIGION           2556\n",
      "SCIENCE            1381\n",
      "SPORTS             4167\n",
      "STYLE              2254\n",
      "TASTE              2096\n",
      "TECH               1231\n",
      "THE WORLDPOST      3664\n",
      "TRAVEL             2145\n",
      "WEIRD NEWS         2670\n",
      "WOMEN              3490\n",
      "WORLD NEWS         2177\n",
      "WORLDPOST          2579\n",
      "dtype: int64\n"
     ]
    }
   ],
   "source": [
    "cats = data.groupby('category')\n",
    "print(cats.ngroups)\n",
    "print(cats.size())"
   ]
  },
  {
   "cell_type": "code",
   "execution_count": 4,
   "metadata": {},
   "outputs": [],
   "source": [
    "# We see that the categories 'THE WORLDPOST' and 'WORLDPOST' are the same. We need to combine them.\n",
    "data.category = data.category.map(lambda x: 'WORLDPOST' if x =='THE WORLDPOST' else x)"
   ]
  },
  {
   "cell_type": "code",
   "execution_count": 5,
   "metadata": {},
   "outputs": [],
   "source": [
    "# Construct a 'text' column in the dataframe that contains the headline and short descriptions\n",
    "data['text'] = data.headline + ' ' + data.short_description"
   ]
  },
  {
   "cell_type": "code",
   "execution_count": 6,
   "metadata": {},
   "outputs": [],
   "source": [
    "# We tokenize the text, write them into a new 'words' column.\n",
    "\n",
    "tokenizer = Tokenizer()\n",
    "tokenizer.fit_on_texts(data.text)\n",
    "\n",
    "T = tokenizer.texts_to_sequences(data.text)\n",
    "data['words'] = T"
   ]
  },
  {
   "cell_type": "code",
   "execution_count": 7,
   "metadata": {},
   "outputs": [
    {
     "data": {
      "text/plain": [
       "count    124068.000000\n",
       "mean         26.128422\n",
       "std          14.366390\n",
       "min           5.000000\n",
       "25%          17.000000\n",
       "50%          24.000000\n",
       "75%          32.000000\n",
       "max         248.000000\n",
       "Name: word_length, dtype: float64"
      ]
     },
     "execution_count": 7,
     "metadata": {},
     "output_type": "execute_result"
    }
   ],
   "source": [
    "# We neglect the entries with a short text.\n",
    "data['word_length'] = data.words.apply(lambda x: len(x))\n",
    "data = data[data.word_length>=5]\n",
    "data.word_length.describe()"
   ]
  },
  {
   "cell_type": "code",
   "execution_count": 8,
   "metadata": {},
   "outputs": [
    {
     "name": "stderr",
     "output_type": "stream",
     "text": [
      "/Users/Xuntao/anaconda3/lib/python3.6/site-packages/ipykernel_launcher.py:10: SettingWithCopyWarning: \n",
      "A value is trying to be set on a copy of a slice from a DataFrame.\n",
      "Try using .loc[row_indexer,col_indexer] = value instead\n",
      "\n",
      "See the caveats in the documentation: http://pandas.pydata.org/pandas-docs/stable/indexing.html#indexing-view-versus-copy\n",
      "  # Remove the CWD from sys.path while we load stuff.\n"
     ]
    }
   ],
   "source": [
    "# We index the categories\n",
    "catergories = data.groupby('category').size().index.tolist()\n",
    "\n",
    "cat_to_int = {}\n",
    "int_to_cat = {}\n",
    "for i, k in enumerate(catergories):\n",
    "    cat_to_int.update({k:i})\n",
    "    int_to_cat.update({i:k})\n",
    "    \n",
    "data['cat_id'] = data['category'].apply(lambda x: cat_to_int[x])"
   ]
  },
  {
   "cell_type": "code",
   "execution_count": 9,
   "metadata": {},
   "outputs": [],
   "source": [
    "# We now upload the GloVe model (100D version). Getting ready for word embedding.\n",
    "\n",
    "EMBEDDING_DIM = 100\n",
    "embedding_index = {}\n",
    "f = open('/Users/Xuntao/DataScience/glove.6B.100d.txt')\n",
    "\n",
    "for line in f:\n",
    "    vector = line.split()\n",
    "    word = vector[0]\n",
    "    coefs = np.asarray(vector[1:], dtype = 'float32')\n",
    "    embedding_index[word] = coefs\n",
    "    \n",
    "f.close()"
   ]
  },
  {
   "cell_type": "code",
   "execution_count": 10,
   "metadata": {},
   "outputs": [],
   "source": [
    "# Construct the embedding matrix\n",
    "\n",
    "word_index = tokenizer.word_index\n",
    "\n",
    "embedding_matrix = np.zeros((len(word_index)+1, EMBEDDING_DIM))\n",
    "\n",
    "for word, i in word_index.items():\n",
    "    embedding_vector = embedding_index.get(word)\n",
    "    if embedding_vector is not None:\n",
    "        embedding_matrix[i] = embedding_vector"
   ]
  },
  {
   "cell_type": "code",
   "execution_count": 11,
   "metadata": {},
   "outputs": [],
   "source": [
    "# Construct a layer that embeds all the text using the embedding matrix above.\n",
    "maxlen = 50\n",
    "embedding_layer = Embedding(len(word_index)+1,\n",
    "                            EMBEDDING_DIM,\n",
    "                            embeddings_initializer=Constant(embedding_matrix),\n",
    "                            input_length=maxlen,\n",
    "                            trainable=False)"
   ]
  },
  {
   "cell_type": "code",
   "execution_count": 12,
   "metadata": {},
   "outputs": [],
   "source": [
    "# Prepare Data\n",
    "\n",
    "X = list(sequence.pad_sequences(data.words, maxlen = maxlen))\n",
    "X = np.array(X)\n",
    "Y = np_utils.to_categorical(list(data.cat_id))\n",
    "\n",
    "# Split the training and validating sets\n",
    "\n",
    "X_train, X_val, Y_train, Y_val = tts(X,Y, test_size = 0.2, random_state = 29)"
   ]
  },
  {
   "cell_type": "code",
   "execution_count": 18,
   "metadata": {},
   "outputs": [],
   "source": [
    "#Setting up a plotting function to plot (and compare) the training histories\n",
    "def train_val_ploting(my_history):\n",
    "    plt.rcParams['figure.figsize'] = (6,6)\n",
    "\n",
    "    plt.rcParams['figure.figsize'] = (6,6)\n",
    "\n",
    "    acc = my_history.history['acc']\n",
    "    val_acc = my_history.history['val_acc']\n",
    "    loss = my_history.history['loss']\n",
    "    val_loss = my_history.history['val_loss']\n",
    "    epochs = range(1, len(acc) + 1)\n",
    "\n",
    "    plt.title('Training and validation accuracy')\n",
    "    plt.plot(epochs, acc, 'red', label='Training acc')\n",
    "    plt.plot(epochs, val_acc, 'blue', label='Validation acc')\n",
    "    plt.legend()\n",
    "\n",
    "    plt.figure()\n",
    "    plt.title('Training and validation loss')\n",
    "    plt.plot(epochs, loss, 'red', label='Training loss')\n",
    "    plt.plot(epochs, val_loss, 'blue', label='Validation loss')\n",
    "    plt.legend()\n",
    "\n",
    "    plt.show()"
   ]
  },
  {
   "cell_type": "code",
   "execution_count": 14,
   "metadata": {},
   "outputs": [
    {
     "name": "stdout",
     "output_type": "stream",
     "text": [
      "__________________________________________________________________________________________________\n",
      "Layer (type)                    Output Shape         Param #     Connected to                     \n",
      "==================================================================================================\n",
      "input_1 (InputLayer)            (None, 50)           0                                            \n",
      "__________________________________________________________________________________________________\n",
      "embedding_1 (Embedding)         (None, 50, 100)      8662800     input_1[0][0]                    \n",
      "__________________________________________________________________________________________________\n",
      "conv1d_1 (Conv1D)               (None, 50, 64)       12864       embedding_1[0][0]                \n",
      "__________________________________________________________________________________________________\n",
      "conv1d_2 (Conv1D)               (None, 50, 64)       19264       embedding_1[0][0]                \n",
      "__________________________________________________________________________________________________\n",
      "conv1d_3 (Conv1D)               (None, 50, 64)       25664       embedding_1[0][0]                \n",
      "__________________________________________________________________________________________________\n",
      "max_pooling1d_1 (MaxPooling1D)  (None, 16, 64)       0           conv1d_1[0][0]                   \n",
      "__________________________________________________________________________________________________\n",
      "max_pooling1d_2 (MaxPooling1D)  (None, 16, 64)       0           conv1d_2[0][0]                   \n",
      "__________________________________________________________________________________________________\n",
      "max_pooling1d_3 (MaxPooling1D)  (None, 16, 64)       0           conv1d_3[0][0]                   \n",
      "__________________________________________________________________________________________________\n",
      "dropout_1 (Dropout)             (None, 16, 64)       0           max_pooling1d_1[0][0]            \n",
      "__________________________________________________________________________________________________\n",
      "dropout_2 (Dropout)             (None, 16, 64)       0           max_pooling1d_2[0][0]            \n",
      "__________________________________________________________________________________________________\n",
      "dropout_3 (Dropout)             (None, 16, 64)       0           max_pooling1d_3[0][0]            \n",
      "__________________________________________________________________________________________________\n",
      "concatenate_1 (Concatenate)     (None, 16, 192)      0           dropout_1[0][0]                  \n",
      "                                                                 dropout_2[0][0]                  \n",
      "                                                                 dropout_3[0][0]                  \n",
      "__________________________________________________________________________________________________\n",
      "flatten_1 (Flatten)             (None, 3072)         0           concatenate_1[0][0]              \n",
      "__________________________________________________________________________________________________\n",
      "dropout_4 (Dropout)             (None, 3072)         0           flatten_1[0][0]                  \n",
      "__________________________________________________________________________________________________\n",
      "dense_1 (Dense)                 (None, 30)           92190       dropout_4[0][0]                  \n",
      "==================================================================================================\n",
      "Total params: 8,812,782\n",
      "Trainable params: 149,982\n",
      "Non-trainable params: 8,662,800\n",
      "__________________________________________________________________________________________________\n"
     ]
    }
   ],
   "source": [
    "#construct text CNN\n",
    "inp = Input(shape=(maxlen,), dtype='int32')\n",
    "embedding = embedding_layer(inp)\n",
    "stacks = []\n",
    "for kernel_size in [2, 3, 4]:\n",
    "    conv = Conv1D(64, kernel_size, padding='same', activation='relu', strides=1)(embedding)\n",
    "    pool = MaxPooling1D(pool_size=3)(conv)\n",
    "    drop = Dropout(0.5)(pool)\n",
    "    stacks.append(drop)\n",
    "\n",
    "merged = Concatenate()(stacks)\n",
    "flatten = Flatten()(merged)\n",
    "drop = Dropout(0.5)(flatten)\n",
    "outp = Dense(len(catergories), activation='softmax')(drop)\n",
    "\n",
    "TextCNN = Model(inputs=inp, outputs=outp)\n",
    "TextCNN.compile(loss='categorical_crossentropy', optimizer='adam', metrics=['accuracy'])\n",
    "\n",
    "TextCNN.summary()"
   ]
  },
  {
   "cell_type": "code",
   "execution_count": 15,
   "metadata": {},
   "outputs": [
    {
     "name": "stdout",
     "output_type": "stream",
     "text": [
      "Train on 99254 samples, validate on 24814 samples\n",
      "Epoch 1/10\n",
      "99254/99254 [==============================] - 74s 747us/step - loss: 2.1990 - acc: 0.4096 - val_loss: 1.7270 - val_acc: 0.5126\n",
      "Epoch 2/10\n",
      "99254/99254 [==============================] - 70s 700us/step - loss: 1.8211 - acc: 0.4937 - val_loss: 1.6109 - val_acc: 0.5494\n",
      "Epoch 3/10\n",
      "99254/99254 [==============================] - 62s 628us/step - loss: 1.7370 - acc: 0.5156 - val_loss: 1.5683 - val_acc: 0.5587\n",
      "Epoch 4/10\n",
      "99254/99254 [==============================] - 63s 633us/step - loss: 1.6901 - acc: 0.5264 - val_loss: 1.5341 - val_acc: 0.5708\n",
      "Epoch 5/10\n",
      "99254/99254 [==============================] - 63s 633us/step - loss: 1.6633 - acc: 0.5342 - val_loss: 1.5220 - val_acc: 0.5701\n",
      "Epoch 6/10\n",
      "99254/99254 [==============================] - 64s 645us/step - loss: 1.6444 - acc: 0.5387 - val_loss: 1.5150 - val_acc: 0.5720\n",
      "Epoch 7/10\n",
      "99254/99254 [==============================] - 65s 659us/step - loss: 1.6281 - acc: 0.5434 - val_loss: 1.5157 - val_acc: 0.5686\n",
      "Epoch 8/10\n",
      "99254/99254 [==============================] - 66s 667us/step - loss: 1.6135 - acc: 0.5477 - val_loss: 1.4976 - val_acc: 0.5789\n",
      "Epoch 9/10\n",
      "99254/99254 [==============================] - 71s 718us/step - loss: 1.6040 - acc: 0.5487 - val_loss: 1.4965 - val_acc: 0.5803\n",
      "Epoch 10/10\n",
      "99254/99254 [==============================] - 73s 739us/step - loss: 1.5935 - acc: 0.5508 - val_loss: 1.4960 - val_acc: 0.5815\n"
     ]
    }
   ],
   "source": [
    "textcnn_history = TextCNN.fit(X_train, \n",
    "                              Y_train, \n",
    "                              batch_size=128, \n",
    "                              epochs=10, \n",
    "                              validation_data=(X_val, Y_val))"
   ]
  },
  {
   "cell_type": "code",
   "execution_count": 19,
   "metadata": {},
   "outputs": [
    {
     "name": "stdout",
     "output_type": "stream",
     "text": [
      "__________________________________________________________________________________________________\n",
      "Layer (type)                    Output Shape         Param #     Connected to                     \n",
      "==================================================================================================\n",
      "input_2 (InputLayer)            (None, 50)           0                                            \n",
      "__________________________________________________________________________________________________\n",
      "embedding_1 (Embedding)         (None, 50, 100)      8662800     input_2[0][0]                    \n",
      "__________________________________________________________________________________________________\n",
      "spatial_dropout1d_1 (SpatialDro (None, 50, 100)      0           embedding_1[1][0]                \n",
      "__________________________________________________________________________________________________\n",
      "bidirectional_1 (Bidirectional) (None, 50, 256)      175872      spatial_dropout1d_1[0][0]        \n",
      "__________________________________________________________________________________________________\n",
      "conv1d_4 (Conv1D)               (None, 48, 64)       49216       bidirectional_1[0][0]            \n",
      "__________________________________________________________________________________________________\n",
      "global_average_pooling1d_1 (Glo (None, 64)           0           conv1d_4[0][0]                   \n",
      "__________________________________________________________________________________________________\n",
      "global_max_pooling1d_1 (GlobalM (None, 64)           0           conv1d_4[0][0]                   \n",
      "__________________________________________________________________________________________________\n",
      "concatenate_2 (Concatenate)     (None, 128)          0           global_average_pooling1d_1[0][0] \n",
      "                                                                 global_max_pooling1d_1[0][0]     \n",
      "__________________________________________________________________________________________________\n",
      "dropout_5 (Dropout)             (None, 128)          0           concatenate_2[0][0]              \n",
      "__________________________________________________________________________________________________\n",
      "dense_2 (Dense)                 (None, 30)           3870        dropout_5[0][0]                  \n",
      "==================================================================================================\n",
      "Total params: 8,891,758\n",
      "Trainable params: 228,958\n",
      "Non-trainable params: 8,662,800\n",
      "__________________________________________________________________________________________________\n"
     ]
    }
   ],
   "source": [
    "#Train with bidirectional GRU. \n",
    "\n",
    "inp2 = Input(shape = (maxlen,), dtype = 'int32')\n",
    "x = embedding_layer(inp2)\n",
    "\n",
    "x = SpatialDropout1D(0.2)(x)\n",
    "x = Bidirectional(GRU(128, return_sequences = True, dropout=0.2, recurrent_dropout = 0.2))(x)\n",
    "x = Conv1D(64, kernel_size = 3)(x)\n",
    "avg_pooling = GlobalAveragePooling1D()(x)\n",
    "max_pooling = GlobalMaxPooling1D()(x)\n",
    "\n",
    "x = concatenate([avg_pooling, max_pooling])\n",
    "x = Dropout(0.2)(x)\n",
    "output2 = Dense(len(catergories), activation = 'softmax')(x)\n",
    "\n",
    "BiGRU = Model(inp2, output2)\n",
    "BiGRU.compile(loss = 'categorical_crossentropy', optimizer = 'adam', metrics = ['acc'])\n",
    "\n",
    "BiGRU.summary()"
   ]
  },
  {
   "cell_type": "code",
   "execution_count": 22,
   "metadata": {},
   "outputs": [
    {
     "name": "stdout",
     "output_type": "stream",
     "text": [
      "Train on 99254 samples, validate on 24814 samples\n",
      "Epoch 1/15\n",
      "99254/99254 [==============================] - 281s 3ms/step - loss: 1.9593 - acc: 0.4648 - val_loss: 1.5154 - val_acc: 0.5707\n",
      "Epoch 2/15\n",
      "99254/99254 [==============================] - 262s 3ms/step - loss: 1.6282 - acc: 0.5402 - val_loss: 1.4141 - val_acc: 0.5915\n",
      "Epoch 3/15\n",
      "99254/99254 [==============================] - 262s 3ms/step - loss: 1.5391 - acc: 0.5615 - val_loss: 1.3848 - val_acc: 0.5956\n",
      "Epoch 4/15\n",
      "99254/99254 [==============================] - 307s 3ms/step - loss: 1.4869 - acc: 0.5738 - val_loss: 1.3357 - val_acc: 0.6090\n",
      "Epoch 5/15\n",
      "99254/99254 [==============================] - 307s 3ms/step - loss: 1.4481 - acc: 0.5838 - val_loss: 1.3162 - val_acc: 0.6118\n",
      "Epoch 6/15\n",
      "99254/99254 [==============================] - 306s 3ms/step - loss: 1.4219 - acc: 0.5895 - val_loss: 1.3067 - val_acc: 0.6147\n",
      "Epoch 7/15\n",
      "99254/99254 [==============================] - 333s 3ms/step - loss: 1.3982 - acc: 0.5943 - val_loss: 1.2878 - val_acc: 0.6234\n",
      "Epoch 8/15\n",
      "99254/99254 [==============================] - 310s 3ms/step - loss: 1.3809 - acc: 0.5999 - val_loss: 1.2825 - val_acc: 0.6248\n",
      "Epoch 9/15\n",
      "99254/99254 [==============================] - 345s 3ms/step - loss: 1.3620 - acc: 0.6033 - val_loss: 1.2747 - val_acc: 0.6274\n",
      "Epoch 10/15\n",
      "99254/99254 [==============================] - 302s 3ms/step - loss: 1.3461 - acc: 0.6071 - val_loss: 1.2641 - val_acc: 0.6288\n",
      "Epoch 11/15\n",
      "99254/99254 [==============================] - 332s 3ms/step - loss: 1.3339 - acc: 0.6107 - val_loss: 1.2662 - val_acc: 0.6291\n",
      "Epoch 12/15\n",
      "99254/99254 [==============================] - 300s 3ms/step - loss: 1.3231 - acc: 0.6122 - val_loss: 1.2674 - val_acc: 0.6284\n",
      "Epoch 13/15\n",
      "99254/99254 [==============================] - 268s 3ms/step - loss: 1.3107 - acc: 0.6144 - val_loss: 1.2503 - val_acc: 0.6321\n",
      "Epoch 14/15\n",
      "99254/99254 [==============================] - 267s 3ms/step - loss: 1.3040 - acc: 0.6174 - val_loss: 1.2515 - val_acc: 0.6337\n",
      "Epoch 15/15\n",
      "99254/99254 [==============================] - 267s 3ms/step - loss: 1.2954 - acc: 0.6193 - val_loss: 1.2450 - val_acc: 0.6345\n"
     ]
    }
   ],
   "source": [
    "BiGRU_history = BiGRU.fit(X_train, Y_train,\n",
    "                         batch_size = 128,\n",
    "                         epochs = 15,\n",
    "                         validation_data=(X_val, Y_val))"
   ]
  },
  {
   "cell_type": "code",
   "execution_count": 23,
   "metadata": {},
   "outputs": [
    {
     "data": {
      "image/png": "[encoded data removed]",
      "text/plain": [
       "<Figure size 432x432 with 1 Axes>"
      ]
     },
     "metadata": {},
     "output_type": "display_data"
    },
    {
     "data": {
      "image/png": "[encoded data removed]",
      "text/plain": [
       "<Figure size 432x432 with 1 Axes>"
      ]
     },
     "metadata": {},
     "output_type": "display_data"
    }
   ],
   "source": [
    "train_val_ploting(BiGRU_history)"
   ]
  },
  {
   "cell_type": "code",
   "execution_count": 24,
   "metadata": {},
   "outputs": [
    {
     "data": {
      "image/png": "[encoded data removed]",
      "text/plain": [
       "<Figure size 432x432 with 1 Axes>"
      ]
     },
     "metadata": {},
     "output_type": "display_data"
    },
    {
     "data": {
      "image/png": "[encoded data removed]",
      "text/plain": [
       "<Figure size 432x432 with 1 Axes>"
      ]
     },
     "metadata": {},
     "output_type": "display_data"
    }
   ],
   "source": [
    "train_val_ploting(textcnn_history)"
   ]
  },
  {
   "cell_type": "code",
   "execution_count": null,
   "metadata": {},
   "outputs": [],
   "source": []
  }
 ],
 "metadata": {
  "kernelspec": {
   "display_name": "Python 3",
   "language": "python",
   "name": "python3"
  },
  "language_info": {
   "codemirror_mode": {
    "name": "ipython",
    "version": 3
   },
   "file_extension": ".py",
   "mimetype": "text/x-python",
   "name": "python",
   "nbconvert_exporter": "python",
   "pygments_lexer": "ipython3",
   "version": "3.6.6"
  }
 },
 "nbformat": 4,
 "nbformat_minor": 2
}
